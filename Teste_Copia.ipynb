{
  "nbformat": 4,
  "nbformat_minor": 0,
  "metadata": {
    "colab": {
      "provenance": []
    },
    "kernelspec": {
      "name": "python3",
      "display_name": "Python 3"
    },
    "language_info": {
      "name": "python"
    }
  },
  "cells": [
    {
      "cell_type": "code",
      "execution_count": null,
      "metadata": {
        "id": "PScFPPU1AZ7u"
      },
      "outputs": [],
      "source": [
        "#Eu nao encontrei o exato aquivo usado na aula, entao fiz um arquivo teste por conta propria.\n",
        "\"\"\"\n",
        "x = \"Hello World\"\n",
        "print(x)\n",
        "\"\"\""
      ]
    }
  ]
}